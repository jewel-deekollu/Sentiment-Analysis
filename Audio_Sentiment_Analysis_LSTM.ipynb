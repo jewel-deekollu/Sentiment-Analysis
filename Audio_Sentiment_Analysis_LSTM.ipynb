{
 "cells": [
  {
   "cell_type": "code",
   "execution_count": null,
   "metadata": {
    "colab": {
     "base_uri": "https://localhost:8080/"
    },
    "executionInfo": {
     "elapsed": 4955,
     "status": "ok",
     "timestamp": 1748876123147,
     "user": {
      "displayName": "manil deekollu",
      "userId": "10615609837075078278"
     },
     "user_tz": -330
    },
    "id": "lAbh2X8CJzwQ",
    "outputId": "27722adf-bd42-4f8e-8aed-d8e8b5a3fa08"
   },
   "outputs": [],
   "source": [
    "from google.colab import drive\n",
    "drive.mount('/content/drive')"
   ]
  },
  {
   "cell_type": "code",
   "execution_count": 1,
   "metadata": {
    "id": "lxL9FMDYYAYy"
   },
   "outputs": [],
   "source": [
    "import os\n",
    "import pickle\n",
    "import pandas as pd\n",
    "import numpy as np\n",
    "from keras.preprocessing.sequence import pad_sequences\n",
    "from keras.layers import LSTM, Embedding, Dense, SpatialDropout1D, Bidirectional, Dropout, BatchNormalization\n",
    "from textblob import TextBlob\n",
    "from tensorflow.keras.preprocessing.text import Tokenizer\n",
    "from tensorflow.keras.preprocessing.sequence import pad_sequences\n",
    "from keras.models import Sequential\n",
    "from sklearn.model_selection import train_test_split\n",
    "from keras.callbacks import EarlyStopping, ModelCheckpoint\n",
    "from keras.regularizers import l2\n"
   ]
  },
  {
   "cell_type": "code",
   "execution_count": null,
   "metadata": {
    "colab": {
     "base_uri": "https://localhost:8080/"
    },
    "executionInfo": {
     "elapsed": 931,
     "status": "ok",
     "timestamp": 1748876163827,
     "user": {
      "displayName": "manil deekollu",
      "userId": "10615609837075078278"
     },
     "user_tz": -330
    },
    "id": "MeRlL8yW1lb-",
    "outputId": "5c5a942f-5e8b-402f-9be6-1bef7149efd8"
   },
   "outputs": [
    {
     "name": "stdout",
     "output_type": "stream",
     "text": [
      "       textID                                               text  \\\n",
      "0  cb774db0d1                I`d have responded, if I were going   \n",
      "1  549e992a42      Sooo SAD I will miss you here in San Diego!!!   \n",
      "2  088c60f138                          my boss is bullying me...   \n",
      "3  9642c003ef                     what interview! leave me alone   \n",
      "4  358bd9e861   Sons of ****, why couldn`t they put them on t...   \n",
      "\n",
      "                         selected_text sentiment  \n",
      "0  I`d have responded, if I were going   neutral  \n",
      "1                             Sooo SAD  negative  \n",
      "2                          bullying me  negative  \n",
      "3                       leave me alone  negative  \n",
      "4                        Sons of ****,  negative  \n"
     ]
    }
   ],
   "source": [
    "\n",
    "# Load the dataset\n",
    "dataset_path = r\"path_to_dataset\"\n",
    "df = pd.read_csv(dataset_path)\n",
    "\n",
    "# Display the first few rows of the dataset to verify it's loaded correctly\n",
    "print(df.head())\n"
   ]
  },
  {
   "cell_type": "code",
   "execution_count": 4,
   "metadata": {
    "colab": {
     "base_uri": "https://localhost:8080/"
    },
    "executionInfo": {
     "elapsed": 680,
     "status": "ok",
     "timestamp": 1748876167941,
     "user": {
      "displayName": "manil deekollu",
      "userId": "10615609837075078278"
     },
     "user_tz": -330
    },
    "id": "zrNQrspYYAjd",
    "outputId": "54c024aa-17a1-43e0-b471-30fa9c2a7466"
   },
   "outputs": [
    {
     "name": "stdout",
     "output_type": "stream",
     "text": [
      "<class 'pandas.core.frame.DataFrame'>\n",
      "RangeIndex: 27481 entries, 0 to 27480\n",
      "Data columns (total 4 columns):\n",
      " #   Column         Non-Null Count  Dtype \n",
      "---  ------         --------------  ----- \n",
      " 0   textID         27481 non-null  object\n",
      " 1   text           27480 non-null  object\n",
      " 2   selected_text  27480 non-null  object\n",
      " 3   sentiment      27481 non-null  object\n",
      "dtypes: object(4)\n",
      "memory usage: 858.9+ KB\n"
     ]
    }
   ],
   "source": [
    "df.info()"
   ]
  },
  {
   "cell_type": "code",
   "execution_count": 3,
   "metadata": {
    "colab": {
     "base_uri": "https://localhost:8080/"
    },
    "executionInfo": {
     "elapsed": 5915,
     "status": "ok",
     "timestamp": 1748876176125,
     "user": {
      "displayName": "manil deekollu",
      "userId": "10615609837075078278"
     },
     "user_tz": -330
    },
    "id": "nmb-EgNZYAm0",
    "outputId": "1c43dd4a-d316-45e1-eefe-f87cf64c0f53"
   },
   "outputs": [
    {
     "name": "stdout",
     "output_type": "stream",
     "text": [
      "       textID                                               text  \\\n",
      "0  cb774db0d1                I`d have responded, if I were going   \n",
      "1  549e992a42      Sooo SAD I will miss you here in San Diego!!!   \n",
      "2  088c60f138                          my boss is bullying me...   \n",
      "3  9642c003ef                     what interview! leave me alone   \n",
      "4  358bd9e861   Sons of ****, why couldn`t they put them on t...   \n",
      "\n",
      "                         selected_text sentiment Sentiment  \n",
      "0  I`d have responded, if I were going   neutral   Neutral  \n",
      "1                             Sooo SAD  negative  Negative  \n",
      "2                          bullying me  negative   Neutral  \n",
      "3                       leave me alone  negative   Neutral  \n",
      "4                        Sons of ****,  negative   Neutral  \n"
     ]
    }
   ],
   "source": [
    "\n",
    "# Perform sentiment analysis for each incoming call\n",
    "sentiments = []\n",
    "for text in df['text']:\n",
    "    analysis = TextBlob(str(text))  # Convert to string to handle potential NaN values\n",
    "    # Determine sentiment polarity (-1 for negative, 0 for neutral, 1 for positive)\n",
    "    sentiment = 'Positive' if analysis.sentiment.polarity > 0 else 'Neutral' if analysis.sentiment.polarity == 0 else 'Negative'\n",
    "    sentiments.append(sentiment)\n",
    "\n",
    "# Add sentiment analysis results to the DataFrame\n",
    "df['Sentiment'] = sentiments\n",
    "\n",
    "# Display the DataFrame with sentiment analysis results\n",
    "print(df.head())\n"
   ]
  },
  {
   "cell_type": "code",
   "execution_count": 8,
   "metadata": {
    "colab": {
     "base_uri": "https://localhost:8080/"
    },
    "executionInfo": {
     "elapsed": 1666,
     "status": "ok",
     "timestamp": 1748876192324,
     "user": {
      "displayName": "manil deekollu",
      "userId": "10615609837075078278"
     },
     "user_tz": -330
    },
    "id": "3M3bBRz21uAy",
    "outputId": "8de1eb2b-7b00-4a45-9151-578e47c0d6fe"
   },
   "outputs": [
    {
     "name": "stdout",
     "output_type": "stream",
     "text": [
      "Sentiment Analysis by Sentiment Category:\n",
      " Sentiment\n",
      "Positive    12619\n",
      "Neutral      9428\n",
      "Negative     5434\n",
      "Name: count, dtype: int64\n"
     ]
    }
   ],
   "source": [
    "# Get the sentiment category counts from the 'Sentiment' column\n",
    "sentiment_category_counts = df['Sentiment'].value_counts()\n",
    "\n",
    "# Print the counts\n",
    "print(\"Sentiment Analysis by Sentiment Category:\\n\", sentiment_category_counts)\n"
   ]
  },
  {
   "cell_type": "code",
   "execution_count": 9,
   "metadata": {
    "colab": {
     "base_uri": "https://localhost:8080/",
     "height": 564
    },
    "executionInfo": {
     "elapsed": 1782,
     "status": "ok",
     "timestamp": 1748876180979,
     "user": {
      "displayName": "manil deekollu",
      "userId": "10615609837075078278"
     },
     "user_tz": -330
    },
    "id": "bPNcHLVJcS2t",
    "outputId": "5e11fe70-0e02-42cb-98f8-6828703950ef"
   },
   "outputs": [
    {
     "data": {
      "image/png": "[encoded data removed]",
      "text/plain": [
       "<Figure size 800x600 with 1 Axes>"
      ]
     },
     "metadata": {},
     "output_type": "display_data"
    }
   ],
   "source": [
    "import matplotlib.pyplot as plt\n",
    "\n",
    "# Data\n",
    "sentiment_counts = {'Positive': 12619, 'Neutral': 9428, 'Negative': 5434}\n",
    "\n",
    "# Plot\n",
    "plt.figure(figsize=(8, 6))\n",
    "plt.bar(sentiment_counts.keys(), sentiment_counts.values(), color=['green', 'grey', 'red'])\n",
    "plt.title('Sentiment Analysis by Sentiment Category')\n",
    "plt.xlabel('Sentiment Category')\n",
    "plt.ylabel('Count')\n",
    "plt.show()\n"
   ]
  },
  {
   "cell_type": "code",
   "execution_count": 10,
   "metadata": {
    "colab": {
     "base_uri": "https://localhost:8080/",
     "height": 521
    },
    "executionInfo": {
     "elapsed": 1408,
     "status": "ok",
     "timestamp": 1748876197378,
     "user": {
      "displayName": "manil deekollu",
      "userId": "10615609837075078278"
     },
     "user_tz": -330
    },
    "id": "O_DIwpq4cTL8",
    "outputId": "df26f508-b6db-473f-9419-27c9fcada3bb"
   },
   "outputs": [
    {
     "data": {
      "image/png": "[encoded data removed]",
      "text/plain": [
       "<Figure size 800x600 with 1 Axes>"
      ]
     },
     "metadata": {},
     "output_type": "display_data"
    }
   ],
   "source": [
    "import matplotlib.pyplot as plt\n",
    "\n",
    "# Define the sentiment counts\n",
    "sentiment_counts = {\n",
    "    'Positive': 12619,\n",
    "    'Neutral': 9428,\n",
    "    'Negative': 5434\n",
    "}\n",
    "\n",
    "# Plotting pie chart for sentiment analysis results\n",
    "plt.figure(figsize=(8, 6))\n",
    "plt.pie(sentiment_counts.values(), labels=sentiment_counts.keys(), autopct='%1.1f%%', startangle=140)\n",
    "plt.title('Sentiment Analysis by Sentiment Category')\n",
    "plt.show()"
   ]
  },
  {
   "cell_type": "code",
   "execution_count": 4,
   "metadata": {
    "colab": {
     "base_uri": "https://localhost:8080/"
    },
    "id": "PG9lU8c7UZ61",
    "outputId": "e8786122-aad2-48cd-f1a9-522a2e6c61ba"
   },
   "outputs": [
    {
     "name": "stdout",
     "output_type": "stream",
     "text": [
      "Epoch 1/50\n",
      "\u001b[1m687/687\u001b[0m \u001b[32m━━━━━━━━━━━━━━━━━━━━\u001b[0m\u001b[37m\u001b[0m \u001b[1m62s\u001b[0m 85ms/step - accuracy: 0.4453 - loss: 1.3846 - val_accuracy: 0.6400 - val_loss: 0.8714\n",
      "Epoch 2/50\n",
      "\u001b[1m687/687\u001b[0m \u001b[32m━━━━━━━━━━━━━━━━━━━━\u001b[0m\u001b[37m\u001b[0m \u001b[1m56s\u001b[0m 81ms/step - accuracy: 0.6356 - loss: 0.8637 - val_accuracy: 0.6826 - val_loss: 0.7824\n",
      "Epoch 3/50\n",
      "\u001b[1m687/687\u001b[0m \u001b[32m━━━━━━━━━━━━━━━━━━━━\u001b[0m\u001b[37m\u001b[0m \u001b[1m55s\u001b[0m 79ms/step - accuracy: 0.7056 - loss: 0.7573 - val_accuracy: 0.7064 - val_loss: 0.7441\n",
      "Epoch 4/50\n",
      "\u001b[1m687/687\u001b[0m \u001b[32m━━━━━━━━━━━━━━━━━━━━\u001b[0m\u001b[37m\u001b[0m \u001b[1m57s\u001b[0m 82ms/step - accuracy: 0.7233 - loss: 0.7034 - val_accuracy: 0.7009 - val_loss: 0.7455\n",
      "Epoch 5/50\n",
      "\u001b[1m687/687\u001b[0m \u001b[32m━━━━━━━━━━━━━━━━━━━━\u001b[0m\u001b[37m\u001b[0m \u001b[1m88s\u001b[0m 128ms/step - accuracy: 0.7344 - loss: 0.6790 - val_accuracy: 0.7151 - val_loss: 0.7258\n",
      "Epoch 6/50\n",
      "\u001b[1m687/687\u001b[0m \u001b[32m━━━━━━━━━━━━━━━━━━━━\u001b[0m\u001b[37m\u001b[0m \u001b[1m56s\u001b[0m 82ms/step - accuracy: 0.7556 - loss: 0.6472 - val_accuracy: 0.7013 - val_loss: 0.7640\n",
      "Epoch 7/50\n",
      "\u001b[1m687/687\u001b[0m \u001b[32m━━━━━━━━━━━━━━━━━━━━\u001b[0m\u001b[37m\u001b[0m \u001b[1m56s\u001b[0m 82ms/step - accuracy: 0.7615 - loss: 0.6314 - val_accuracy: 0.7137 - val_loss: 0.7211\n",
      "Epoch 8/50\n",
      "\u001b[1m687/687\u001b[0m \u001b[32m━━━━━━━━━━━━━━━━━━━━\u001b[0m\u001b[37m\u001b[0m \u001b[1m56s\u001b[0m 82ms/step - accuracy: 0.7713 - loss: 0.6099 - val_accuracy: 0.7140 - val_loss: 0.7388\n",
      "Epoch 9/50\n",
      "\u001b[1m687/687\u001b[0m \u001b[32m━━━━━━━━━━━━━━━━━━━━\u001b[0m\u001b[37m\u001b[0m \u001b[1m56s\u001b[0m 82ms/step - accuracy: 0.7784 - loss: 0.6011 - val_accuracy: 0.7188 - val_loss: 0.7267\n",
      "Epoch 10/50\n",
      "\u001b[1m687/687\u001b[0m \u001b[32m━━━━━━━━━━━━━━━━━━━━\u001b[0m\u001b[37m\u001b[0m \u001b[1m58s\u001b[0m 84ms/step - accuracy: 0.7899 - loss: 0.5783 - val_accuracy: 0.7191 - val_loss: 0.7344\n",
      "Epoch 11/50\n",
      "\u001b[1m687/687\u001b[0m \u001b[32m━━━━━━━━━━━━━━━━━━━━\u001b[0m\u001b[37m\u001b[0m \u001b[1m58s\u001b[0m 84ms/step - accuracy: 0.7874 - loss: 0.5726 - val_accuracy: 0.7195 - val_loss: 0.7483\n",
      "Epoch 12/50\n",
      "\u001b[1m687/687\u001b[0m \u001b[32m━━━━━━━━━━━━━━━━━━━━\u001b[0m\u001b[37m\u001b[0m \u001b[1m56s\u001b[0m 82ms/step - accuracy: 0.7885 - loss: 0.5720 - val_accuracy: 0.7173 - val_loss: 0.7473\n",
      "\u001b[1m172/172\u001b[0m \u001b[32m━━━━━━━━━━━━━━━━━━━━\u001b[0m\u001b[37m\u001b[0m \u001b[1m4s\u001b[0m 25ms/step - accuracy: 0.7100 - loss: 0.7340\n",
      "Test Loss: 0.7211272120475769\n",
      "Test Accuracy: 0.7136619687080383\n",
      "Training Accuracy: 0.7843886613845825\n",
      "Validation Accuracy: 0.7173003554344177\n",
      "Tokenizer saved at: C:\\Users\\manil\\Downloads\\Call-sentiment-analysis-trial\\tokenizer.pickle\n"
     ]
    }
   ],
   "source": [
    "\n",
    "\n",
    "# Split the dataset into training and testing sets\n",
    "X = df['text'].astype(str).values  # Convert to string\n",
    "y = pd.get_dummies(df['sentiment']).values  # Convert sentiment labels to one-hot encoding\n",
    "X_train, X_test, y_train, y_test = train_test_split(X, y, test_size=0.2, random_state=42)\n",
    "\n",
    "# Tokenize the text\n",
    "max_words = 5000\n",
    "max_len = 100\n",
    "tokenizer = Tokenizer(num_words=max_words, filters='!\"#$%&()*+,-./:;<=>?@[\\]^_`{|}~', lower=True)\n",
    "tokenizer.fit_on_texts(X_train)\n",
    "X_train_sequences = tokenizer.texts_to_sequences(X_train)\n",
    "X_test_sequences = tokenizer.texts_to_sequences(X_test)\n",
    "\n",
    "# Pad sequences to ensure uniform length\n",
    "X_train_pad = pad_sequences(X_train_sequences, maxlen=max_len)\n",
    "X_test_pad = pad_sequences(X_test_sequences, maxlen=max_len)\n",
    "\n",
    "# Define number of epochs as an integer\n",
    "epochs = 50\n",
    "\n",
    "# Define early stopping callback\n",
    "early_stopping = EarlyStopping(monitor='val_loss', patience=5, restore_best_weights=True)\n",
    "\n",
    "# Define model checkpoint callback - CHANGED TO .keras FORMAT\n",
    "model_checkpoint = ModelCheckpoint('best_model.keras', save_best_only=True)  # Fixed format\n",
    "\n",
    "# Build LSTM model with dropout and L2 regularization\n",
    "embedding_dim = 128\n",
    "lstm_out = 128\n",
    "\n",
    "# Define the model - REMOVED input_length\n",
    "model = Sequential()\n",
    "model.add(Embedding(max_words, embedding_dim))  # Removed input_length\n",
    "model.add(SpatialDropout1D(0.5))\n",
    "model.add(LSTM(lstm_out, dropout=0.5, recurrent_dropout=0.5, kernel_regularizer=l2(0.01)))\n",
    "model.add(Dense(3, activation='softmax'))\n",
    "model.compile(loss='categorical_crossentropy', optimizer='adam', metrics=['accuracy'])\n",
    "\n",
    "# Train the model with early stopping and model checkpoint\n",
    "history = model.fit(\n",
    "    X_train_pad, y_train,\n",
    "    validation_data=(X_test_pad, y_test),\n",
    "    epochs=epochs,\n",
    "    batch_size=32,\n",
    "    verbose=1,\n",
    "    callbacks=[early_stopping, model_checkpoint]\n",
    ")\n",
    "\n",
    "# Evaluate the model\n",
    "score = model.evaluate(X_test_pad, y_test, batch_size=32, verbose=1)\n",
    "print('Test Loss:', score[0])\n",
    "print('Test Accuracy:', score[1])\n",
    "\n",
    "# Print training and validation accuracy\n",
    "print('Training Accuracy:', history.history['accuracy'][-1])\n",
    "print('Validation Accuracy:', history.history['val_accuracy'][-1])\n",
    "\n",
    "# Save the model architecture as JSON\n",
    "model_json = model.to_json()\n",
    "with open(\"model.json\", \"w\") as json_file:\n",
    "    json_file.write(model_json)\n",
    "\n",
    "# Save the model weights - CHANGED TO CORRECT SUFFIX\n",
    "model.save_weights(\"model_weights.weights.h5\")  # Fixed suffix\n",
    "\n",
    "# Specify the directory path where you want to save the tokenizer\n",
    "save_dir = r\"C:\\Users\\manil\\Downloads\\Call-sentiment-analysis-trial\"\n",
    "os.makedirs(save_dir, exist_ok=True)\n",
    "\n",
    "# Save the tokenizer\n",
    "tokenizer_path = os.path.join(save_dir, 'tokenizer.pickle')\n",
    "with open(tokenizer_path, 'wb') as handle:\n",
    "    pickle.dump(tokenizer, handle, protocol=pickle.HIGHEST_PROTOCOL)\n",
    "\n",
    "print(f\"Tokenizer saved at: {tokenizer_path}\")\n",
    "\n"
   ]
  },
  {
   "cell_type": "code",
   "execution_count": 5,
   "metadata": {
    "id": "StZ5oOtFeZL0"
   },
   "outputs": [
    {
     "data": {
      "image/png": "[encoded data removed]",
      "text/plain": [
       "<Figure size 640x480 with 1 Axes>"
      ]
     },
     "metadata": {},
     "output_type": "display_data"
    }
   ],
   "source": [
    "import matplotlib.pyplot as plt\n",
    "\n",
    "# Plot training & validation accuracy values\n",
    "plt.plot(history.history['accuracy'])\n",
    "plt.plot(history.history['val_accuracy'])\n",
    "plt.title('Model accuracy')\n",
    "plt.ylabel('Accuracy')\n",
    "plt.xlabel('Epoch')\n",
    "plt.legend(['Train', 'Validation'], loc='upper left')\n",
    "plt.show()\n",
    "\n",
    "\n"
   ]
  },
  {
   "cell_type": "code",
   "execution_count": 6,
   "metadata": {
    "colab": {
     "base_uri": "https://localhost:8080/",
     "height": 508
    },
    "executionInfo": {
     "elapsed": 172,
     "status": "ok",
     "timestamp": 1747578755137,
     "user": {
      "displayName": "manil deekollu",
      "userId": "10615609837075078278"
     },
     "user_tz": -330
    },
    "id": "nGVTNC2nyCn6",
    "outputId": "3e38fb27-0923-41c5-c085-9908dfef30f0"
   },
   "outputs": [
    {
     "data": {
      "image/png": "[encoded data removed]",
      "text/plain": [
       "<Figure size 800x600 with 1 Axes>"
      ]
     },
     "metadata": {},
     "output_type": "display_data"
    }
   ],
   "source": [
    "import matplotlib.pyplot as plt\n",
    "\n",
    "# Get the final training and validation accuracy\n",
    "training_accuracy = history.history['accuracy'][-1]\n",
    "validation_accuracy = history.history['val_accuracy'][-1]\n",
    "\n",
    "# Plotting the bar chart\n",
    "plt.figure(figsize=(8, 6))\n",
    "plt.bar(['Training Accuracy', 'Validation Accuracy'], [training_accuracy, validation_accuracy], color=['blue', 'green'])\n",
    "plt.title('Training vs Validation Accuracy')\n",
    "plt.ylabel('Accuracy')\n",
    "plt.ylim(0, 1)  # Set y-axis limit from 0 to 1\n",
    "plt.show()\n"
   ]
  },
  {
   "cell_type": "code",
   "execution_count": null,
   "metadata": {
    "colab": {
     "base_uri": "https://localhost:8080/"
    },
    "executionInfo": {
     "elapsed": 817,
     "status": "ok",
     "timestamp": 1747579476421,
     "user": {
      "displayName": "manil deekollu",
      "userId": "10615609837075078278"
     },
     "user_tz": -330
    },
    "id": "NlpkEaO7cTSY",
    "outputId": "c1e06d27-9c3c-456d-fecc-9e1cfc2c84aa"
   },
   "outputs": [
    {
     "name": "stdout",
     "output_type": "stream",
     "text": [
      "\u001b[1m1/1\u001b[0m \u001b[32m━━━━━━━━━━━━━━━━━━━━\u001b[0m\u001b[37m\u001b[0m \u001b[1m0s\u001b[0m 470ms/step\n",
      "Text: This is a great movie! \n",
      "Predicted Sentiment: Positive\n",
      "\n",
      "Text: I'm not sure how I feel about this. \n",
      "Predicted Sentiment: Negative\n",
      "\n",
      "Text: I hated the ending of that book. \n",
      "Predicted Sentiment: Negative\n",
      "\n",
      "Text: Heyy it is very nice \n",
      "Predicted Sentiment: Positive\n",
      "\n",
      "Text: That is the worst score \n",
      "Predicted Sentiment: Negative\n",
      "\n",
      "Text: The Result of todays match is better but rcb lost it \n",
      "Predicted Sentiment: Neutral\n",
      "\n"
     ]
    }
   ],
   "source": [
    "\n",
    "\n",
    "# Load the text data you want to predict sentiment for\n",
    "text_data = [\"This is a great movie!\",\n",
    "             \"I'm not sure how I feel about this.\",\n",
    "             \"I hated the ending of that book.\",\n",
    "             \"Heyy it is very nice\",\n",
    "             \"That is the worst score\",\n",
    "             \"The Result of todays match is better but rcb lost it\"]\n",
    "\n",
    "# Tokenize the text\n",
    "max_len = 100\n",
    "X_sequences = tokenizer.texts_to_sequences(text_data)\n",
    "X_pad = pad_sequences(X_sequences, maxlen=max_len)\n",
    "\n",
    "# Load the saved model architecture\n",
    "from tensorflow.keras.models import model_from_json  # Added missing import\n",
    "with open('model.json', 'r') as json_file:\n",
    "    loaded_model_json = json_file.read()\n",
    "\n",
    "# Load the model weights\n",
    "loaded_model = model_from_json(loaded_model_json)\n",
    "loaded_model.load_weights(\"model_weights.weights.h5\")  # Corrected filename\n",
    "\n",
    "# Predict sentiment\n",
    "predictions = loaded_model.predict(X_pad)\n",
    "\n",
    "# Decode predictions\n",
    "sentiments = {0: 'Negative', 1: 'Neutral', 2: 'Positive'}\n",
    "decoded_predictions = [sentiments[np.argmax(pred)] for pred in predictions]\n",
    "\n",
    "# Print predictions\n",
    "for text, pred in zip(text_data, decoded_predictions):\n",
    "    print(f\"Text: {text} \\nPredicted Sentiment: {pred}\\n\")\n"
   ]
  },
  {
   "cell_type": "code",
   "execution_count": 8,
   "metadata": {
    "colab": {
     "base_uri": "https://localhost:8080/",
     "height": 306
    },
    "executionInfo": {
     "elapsed": 169,
     "status": "ok",
     "timestamp": 1747580206932,
     "user": {
      "displayName": "manil deekollu",
      "userId": "10615609837075078278"
     },
     "user_tz": -330
    },
    "id": "v3P9Ps565PbZ",
    "outputId": "8fbdb2c3-f044-4242-e40e-e17a94fb15fe"
   },
   "outputs": [
    {
     "data": {
      "text/html": [
       "<pre style=\"white-space:pre;overflow-x:auto;line-height:normal;font-family:Menlo,'DejaVu Sans Mono',consolas,'Courier New',monospace\"><span style=\"font-weight: bold\">Model: \"sequential\"</span>\n",
       "</pre>\n"
      ],
      "text/plain": [
       "\u001b[1mModel: \"sequential\"\u001b[0m\n"
      ]
     },
     "metadata": {},
     "output_type": "display_data"
    },
    {
     "data": {
      "text/html": [
       "<pre style=\"white-space:pre;overflow-x:auto;line-height:normal;font-family:Menlo,'DejaVu Sans Mono',consolas,'Courier New',monospace\">┏━━━━━━━━━━━━━━━━━━━━━━━━━━━━━━━━━┳━━━━━━━━━━━━━━━━━━━━━━━━┳━━━━━━━━━━━━━━━┓\n",
       "┃<span style=\"font-weight: bold\"> Layer (type)                    </span>┃<span style=\"font-weight: bold\"> Output Shape           </span>┃<span style=\"font-weight: bold\">       Param # </span>┃\n",
       "┡━━━━━━━━━━━━━━━━━━━━━━━━━━━━━━━━━╇━━━━━━━━━━━━━━━━━━━━━━━━╇━━━━━━━━━━━━━━━┩\n",
       "│ embedding (<span style=\"color: #0087ff; text-decoration-color: #0087ff\">Embedding</span>)           │ (<span style=\"color: #00af00; text-decoration-color: #00af00\">32</span>, <span style=\"color: #00af00; text-decoration-color: #00af00\">100</span>, <span style=\"color: #00af00; text-decoration-color: #00af00\">128</span>)         │       <span style=\"color: #00af00; text-decoration-color: #00af00\">640,000</span> │\n",
       "├─────────────────────────────────┼────────────────────────┼───────────────┤\n",
       "│ spatial_dropout1d               │ (<span style=\"color: #00af00; text-decoration-color: #00af00\">32</span>, <span style=\"color: #00af00; text-decoration-color: #00af00\">100</span>, <span style=\"color: #00af00; text-decoration-color: #00af00\">128</span>)         │             <span style=\"color: #00af00; text-decoration-color: #00af00\">0</span> │\n",
       "│ (<span style=\"color: #0087ff; text-decoration-color: #0087ff\">SpatialDropout1D</span>)              │                        │               │\n",
       "├─────────────────────────────────┼────────────────────────┼───────────────┤\n",
       "│ lstm (<span style=\"color: #0087ff; text-decoration-color: #0087ff\">LSTM</span>)                     │ (<span style=\"color: #00af00; text-decoration-color: #00af00\">32</span>, <span style=\"color: #00af00; text-decoration-color: #00af00\">128</span>)              │       <span style=\"color: #00af00; text-decoration-color: #00af00\">131,584</span> │\n",
       "├─────────────────────────────────┼────────────────────────┼───────────────┤\n",
       "│ dense (<span style=\"color: #0087ff; text-decoration-color: #0087ff\">Dense</span>)                   │ (<span style=\"color: #00af00; text-decoration-color: #00af00\">32</span>, <span style=\"color: #00af00; text-decoration-color: #00af00\">3</span>)                │           <span style=\"color: #00af00; text-decoration-color: #00af00\">387</span> │\n",
       "└─────────────────────────────────┴────────────────────────┴───────────────┘\n",
       "</pre>\n"
      ],
      "text/plain": [
       "┏━━━━━━━━━━━━━━━━━━━━━━━━━━━━━━━━━┳━━━━━━━━━━━━━━━━━━━━━━━━┳━━━━━━━━━━━━━━━┓\n",
       "┃\u001b[1m \u001b[0m\u001b[1mLayer (type)                   \u001b[0m\u001b[1m \u001b[0m┃\u001b[1m \u001b[0m\u001b[1mOutput Shape          \u001b[0m\u001b[1m \u001b[0m┃\u001b[1m \u001b[0m\u001b[1m      Param #\u001b[0m\u001b[1m \u001b[0m┃\n",
       "┡━━━━━━━━━━━━━━━━━━━━━━━━━━━━━━━━━╇━━━━━━━━━━━━━━━━━━━━━━━━╇━━━━━━━━━━━━━━━┩\n",
       "│ embedding (\u001b[38;5;33mEmbedding\u001b[0m)           │ (\u001b[38;5;34m32\u001b[0m, \u001b[38;5;34m100\u001b[0m, \u001b[38;5;34m128\u001b[0m)         │       \u001b[38;5;34m640,000\u001b[0m │\n",
       "├─────────────────────────────────┼────────────────────────┼───────────────┤\n",
       "│ spatial_dropout1d               │ (\u001b[38;5;34m32\u001b[0m, \u001b[38;5;34m100\u001b[0m, \u001b[38;5;34m128\u001b[0m)         │             \u001b[38;5;34m0\u001b[0m │\n",
       "│ (\u001b[38;5;33mSpatialDropout1D\u001b[0m)              │                        │               │\n",
       "├─────────────────────────────────┼────────────────────────┼───────────────┤\n",
       "│ lstm (\u001b[38;5;33mLSTM\u001b[0m)                     │ (\u001b[38;5;34m32\u001b[0m, \u001b[38;5;34m128\u001b[0m)              │       \u001b[38;5;34m131,584\u001b[0m │\n",
       "├─────────────────────────────────┼────────────────────────┼───────────────┤\n",
       "│ dense (\u001b[38;5;33mDense\u001b[0m)                   │ (\u001b[38;5;34m32\u001b[0m, \u001b[38;5;34m3\u001b[0m)                │           \u001b[38;5;34m387\u001b[0m │\n",
       "└─────────────────────────────────┴────────────────────────┴───────────────┘\n"
      ]
     },
     "metadata": {},
     "output_type": "display_data"
    },
    {
     "data": {
      "text/html": [
       "<pre style=\"white-space:pre;overflow-x:auto;line-height:normal;font-family:Menlo,'DejaVu Sans Mono',consolas,'Courier New',monospace\"><span style=\"font-weight: bold\"> Total params: </span><span style=\"color: #00af00; text-decoration-color: #00af00\">2,315,915</span> (8.83 MB)\n",
       "</pre>\n"
      ],
      "text/plain": [
       "\u001b[1m Total params: \u001b[0m\u001b[38;5;34m2,315,915\u001b[0m (8.83 MB)\n"
      ]
     },
     "metadata": {},
     "output_type": "display_data"
    },
    {
     "data": {
      "text/html": [
       "<pre style=\"white-space:pre;overflow-x:auto;line-height:normal;font-family:Menlo,'DejaVu Sans Mono',consolas,'Courier New',monospace\"><span style=\"font-weight: bold\"> Trainable params: </span><span style=\"color: #00af00; text-decoration-color: #00af00\">771,971</span> (2.94 MB)\n",
       "</pre>\n"
      ],
      "text/plain": [
       "\u001b[1m Trainable params: \u001b[0m\u001b[38;5;34m771,971\u001b[0m (2.94 MB)\n"
      ]
     },
     "metadata": {},
     "output_type": "display_data"
    },
    {
     "data": {
      "text/html": [
       "<pre style=\"white-space:pre;overflow-x:auto;line-height:normal;font-family:Menlo,'DejaVu Sans Mono',consolas,'Courier New',monospace\"><span style=\"font-weight: bold\"> Non-trainable params: </span><span style=\"color: #00af00; text-decoration-color: #00af00\">0</span> (0.00 B)\n",
       "</pre>\n"
      ],
      "text/plain": [
       "\u001b[1m Non-trainable params: \u001b[0m\u001b[38;5;34m0\u001b[0m (0.00 B)\n"
      ]
     },
     "metadata": {},
     "output_type": "display_data"
    },
    {
     "data": {
      "text/html": [
       "<pre style=\"white-space:pre;overflow-x:auto;line-height:normal;font-family:Menlo,'DejaVu Sans Mono',consolas,'Courier New',monospace\"><span style=\"font-weight: bold\"> Optimizer params: </span><span style=\"color: #00af00; text-decoration-color: #00af00\">1,543,944</span> (5.89 MB)\n",
       "</pre>\n"
      ],
      "text/plain": [
       "\u001b[1m Optimizer params: \u001b[0m\u001b[38;5;34m1,543,944\u001b[0m (5.89 MB)\n"
      ]
     },
     "metadata": {},
     "output_type": "display_data"
    },
    {
     "name": "stdout",
     "output_type": "stream",
     "text": [
      "None\n"
     ]
    }
   ],
   "source": [
    "from keras.models import model_from_json\n",
    "\n",
    "# Load the JSON model architecture\n",
    "with open('model.json', 'r') as json_file:\n",
    "    loaded_model_json = json_file.read()\n",
    "\n",
    "# Load the model architecture from JSON\n",
    "loaded_model = model_from_json(loaded_model_json)\n",
    "\n",
    "# Load the weights into the model\n",
    "loaded_model.load_weights(\"model_weights.weights.h5\")\n",
    "\n",
    "# Print the summary of the loaded model\n",
    "print(loaded_model.summary())\n"
   ]
  }
 ],
 "metadata": {
  "colab": {
   "provenance": []
  },
  "kernelspec": {
   "display_name": "Python 3",
   "name": "python3"
  },
  "language_info": {
   "codemirror_mode": {
    "name": "ipython",
    "version": 3
   },
   "file_extension": ".py",
   "mimetype": "text/x-python",
   "name": "python",
   "nbconvert_exporter": "python",
   "pygments_lexer": "ipython3",
   "version": "3.10.2"
  }
 },
 "nbformat": 4,
 "nbformat_minor": 0
}
